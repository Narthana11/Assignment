{
  "nbformat": 4,
  "nbformat_minor": 0,
  "metadata": {
    "colab": {
      "provenance": [],
      "toc_visible": true
    },
    "kernelspec": {
      "name": "python3",
      "display_name": "Python 3"
    },
    "language_info": {
      "name": "python"
    }
  },
  "cells": [
    {
      "cell_type": "code",
      "source": [
        "print(\"Enter number of old bread\")\n",
        "breadpurchased = int(input())\n",
        "regular = 35 * breadpurchased\n",
        "discount = 0.6 * 35 * breadpurchased\n",
        "amountpay = 0.4 * 35 * breadpurchased\n",
        "print(\"Original Price \" + str(regular) )\n",
        "print(\"Total Discount \" + str(discount) )\n",
        "print(\"To Pay Price \" + str(amountpay) )\n"
      ],
      "metadata": {
        "colab": {
          "base_uri": "https://localhost:8080/"
        },
        "id": "opiNCt837iCn",
        "outputId": "5396b4f2-9322-4503-c8f4-5f1b0817ee5f"
      },
      "execution_count": null,
      "outputs": [
        {
          "output_type": "stream",
          "name": "stdout",
          "text": [
            "Enter number of old bread\n",
            "1\n",
            "Original Price 35\n",
            "Total Discount 21.0\n",
            "To Pay Price 14.0\n"
          ]
        }
      ]
    },
    {
      "cell_type": "code",
      "source": [
        "def calculateage(humanyear):\n",
        "  if humanyear <= 0:\n",
        "    return \"human age enterned must be positive\"\n",
        "  elif humanyear <= 2:\n",
        "    dogsyear = humanyear * 10.5\n",
        "  else:\n",
        "   dogsyear = 21 + (humanyear-2) * 10.5\n",
        "  return dogsyear\n",
        "\n",
        "humanyear = int(input(\"Enter the human year \"))\n",
        "dogsyear = calculateage(humanyear)\n",
        "\n",
        "print(\"dogs age in years : \" + str(dogsyear) )\n",
        "\n",
        "\n",
        "\n",
        "\n",
        "\n",
        "\n",
        "\n"
      ],
      "metadata": {
        "id": "JyLASNn5AWCR",
        "colab": {
          "base_uri": "https://localhost:8080/"
        },
        "outputId": "a265e9a1-7e61-4806-8f5a-872636a7a45f"
      },
      "execution_count": null,
      "outputs": [
        {
          "output_type": "stream",
          "name": "stdout",
          "text": [
            "Enter the human year 454\n",
            "dogs age in years : 4767.0\n"
          ]
        }
      ]
    },
    {
      "cell_type": "code",
      "source": [
        "def primenumbercheck(number):\n",
        "  if number <= 1:\n",
        "    return False\n",
        "  for i in range(2, number):\n",
        "    if number % i == 0:\n",
        "      return False\n",
        "  return True\n",
        "\n",
        "number = int(input(\"Enter the number to check for prime or not  \"))\n",
        "\n",
        "if(primenumbercheck(number)):\n",
        "  print(str(number) + \" is a prime number\" )\n",
        "else:\n",
        "  print(str(number) + \" is a not a prime number\" )\n"
      ],
      "metadata": {
        "colab": {
          "base_uri": "https://localhost:8080/"
        },
        "id": "LLmQVYwbHOCR",
        "outputId": "54f7f719-2ddf-410c-f9c9-fd1c5930d01c"
      },
      "execution_count": null,
      "outputs": [
        {
          "output_type": "stream",
          "name": "stdout",
          "text": [
            "Enter the number to check for prime or not  5\n",
            "5 is a prime number\n"
          ]
        }
      ]
    },
    {
      "cell_type": "code",
      "source": [
        "def primenumbercheck(number):\n",
        "  if number <= 1:\n",
        "    return False\n",
        "  for i in range(2, number):\n",
        "    if number % i == 0:\n",
        "      return False\n",
        "  return True\n",
        "\n",
        "def nextPrime(number):\n",
        "   number += 1\n",
        "   while not primenumbercheck(number):\n",
        "      number += 1\n",
        "   return number\n",
        "\n",
        "number = int(input(\"Enter the number \"))\n",
        "print(str(nextPrime(number)) + \" is a next prime number\" )\n"
      ],
      "metadata": {
        "colab": {
          "base_uri": "https://localhost:8080/"
        },
        "id": "Ic8BnhWjMkNG",
        "outputId": "13e03038-07ae-4024-b53f-bcd4d5dae861"
      },
      "execution_count": null,
      "outputs": [
        {
          "output_type": "stream",
          "name": "stdout",
          "text": [
            "Enter the number 10\n",
            "11 is a next prime number\n"
          ]
        }
      ]
    },
    {
      "cell_type": "code",
      "source": [
        "import random\n",
        "def checkConsequtiveFlips():\n",
        "    count = 0\n",
        "    prev_flip = \"\"\n",
        "    flip_count = 1\n",
        "    while True:\n",
        "        flip = random.choice([\"Heads\", \"Tails\"])\n",
        "        print(str(flip_count) + \":\" + str(flip))\n",
        "        if flip == prev_flip:\n",
        "            count += 1\n",
        "        else:\n",
        "            count = 1\n",
        "        if count == 3:\n",
        "            print(\"3 consecutive flip found after \" + str(flip_count))\n",
        "            break\n",
        "        prev_flip = flip\n",
        "        flip_count += 1\n",
        "checkConsequtiveFlips()\n"
      ],
      "metadata": {
        "colab": {
          "base_uri": "https://localhost:8080/"
        },
        "id": "aQCdl_P0VqSV",
        "outputId": "8a3923c7-cd2d-4513-f203-397bb0a579f1"
      },
      "execution_count": null,
      "outputs": [
        {
          "output_type": "stream",
          "name": "stdout",
          "text": [
            "1:Heads\n",
            "2:Tails\n",
            "3:Heads\n",
            "4:Heads\n",
            "5:Tails\n",
            "6:Heads\n",
            "7:Heads\n",
            "8:Tails\n",
            "9:Tails\n",
            "10:Heads\n",
            "11:Heads\n",
            "12:Tails\n",
            "13:Tails\n",
            "14:Tails\n",
            "3 consecutive flip found after 14\n"
          ]
        }
      ]
    },
    {
      "cell_type": "code",
      "source": [
        "import random\n",
        "\n",
        "def createStandardCardDeck():\n",
        "    numbers = ['2', '3', '4', '5', '6', '7', '8', '9', 'T', 'J', 'Q', 'K', 'A']\n",
        "    shades = ['s', 'h', 'd', 'c']\n",
        "    deckbeforeshuffle = [number + shade for number in numbers for shade in shades]\n",
        "\n",
        "    return deckbeforeshuffle\n",
        "\n",
        "\n",
        "def shuffleCardDeck(deck):\n",
        "    print(\"Before shuffle:\")\n",
        "    print(deck)\n",
        "\n",
        "    for i in range(len(deck)):\n",
        "        j = random.randint(0, len(deck) - 1)\n",
        "        deck[i], deck[j] = deck[j], deck[i]\n",
        "\n",
        "    # Print the deck after shuffling\n",
        "    print(\"After shuffle:\")\n",
        "    print(deck)\n",
        "\n",
        "    return deck\n",
        "\n",
        "\n",
        "standardcarddeck = createStandardCardDeck()\n",
        "shuffleddeck = shuffleCardDeck(standardcarddeck)\n"
      ],
      "metadata": {
        "colab": {
          "base_uri": "https://localhost:8080/"
        },
        "id": "lKUkKUuGfafc",
        "outputId": "c080005a-b061-4911-9c9e-2c7dac19875a"
      },
      "execution_count": null,
      "outputs": [
        {
          "output_type": "stream",
          "name": "stdout",
          "text": [
            "Before shuffle:\n",
            "['2s', '2h', '2d', '2c', '3s', '3h', '3d', '3c', '4s', '4h', '4d', '4c', '5s', '5h', '5d', '5c', '6s', '6h', '6d', '6c', '7s', '7h', '7d', '7c', '8s', '8h', '8d', '8c', '9s', '9h', '9d', '9c', 'Ts', 'Th', 'Td', 'Tc', 'Js', 'Jh', 'Jd', 'Jc', 'Qs', 'Qh', 'Qd', 'Qc', 'Ks', 'Kh', 'Kd', 'Kc', 'As', 'Ah', 'Ad', 'Ac']\n",
            "After shuffle:\n",
            "['3c', 'Qc', 'Jh', '8c', 'Ac', 'Ts', 'Kd', '9c', '7d', '4h', '5c', '4d', 'Kc', '4s', 'Tc', '2d', '9d', '7c', '3s', '2s', 'Jc', 'Ks', 'Qh', 'Ah', 'Kh', '6s', '8d', '9h', 'As', '7h', 'Td', 'Js', '8s', '4c', 'Qd', '5s', '6d', '2h', 'Jd', 'Qs', '6h', '8h', '3d', '9s', 'Th', 'Ad', '5d', '7s', '5h', '3h', '2c', '6c']\n"
          ]
        }
      ]
    },
    {
      "cell_type": "code",
      "source": [
        "import random\n",
        "deck = []\n",
        "def createStandardCardDeck():\n",
        "    numbers = ['2', '3', '4', '5', '6', '7', '8', '9', 'T', 'J', 'Q', 'K', 'A']\n",
        "    shades = ['s', 'h', 'd', 'c']\n",
        "    deckbeforeshuffle = [number + shade for number in numbers for shade in shades]\n",
        "\n",
        "    return deckbeforeshuffle\n",
        "\n",
        "\n",
        "def shuffleCardDeck(deck):\n",
        "    print(\"Before shuffle:\")\n",
        "    print(deck)\n",
        "\n",
        "    for i in range(len(deck)):\n",
        "        j = random.randint(0, len(deck) - 1)\n",
        "        deck[i], deck[j] = deck[j], deck[i]\n",
        "\n",
        "    # Print the deck after shuffling\n",
        "    print(\"After shuffle:\")\n",
        "    print(deck)\n",
        "\n",
        "    return deck\n",
        "\n",
        "def deal(deck, hands, card_num):\n",
        "        dealt_hands = [[] for _ in range(hands)]\n",
        "\n",
        "        card_index = 0\n",
        "        total_cards = hands * card_num\n",
        "\n",
        "        for i in range(card_num):\n",
        "            for j in range(hands):\n",
        "                if card_index < total_cards and deck:\n",
        "                    dealt_hands[j].append(deck.pop(0))\n",
        "                    card_index += 1\n",
        "\n",
        "        print(deck)\n",
        "        for i, hand in enumerate(dealt_hands, start=1):\n",
        "            print(f\"Player {i}: {hand}\")\n",
        "\n",
        "        return dealt_hands\n",
        "\n",
        "standardcarddeck = createStandardCardDeck()\n",
        "shuffleddeck = shuffleCardDeck(standardcarddeck)\n",
        "hands = 4\n",
        "cards_per_hand = 5\n",
        "\n",
        "deal(shuffleddeck,hands, cards_per_hand)"
      ],
      "metadata": {
        "colab": {
          "base_uri": "https://localhost:8080/"
        },
        "id": "U2Tzr5Ko6heH",
        "outputId": "737d1f02-2434-4392-988d-6ace957bcd93"
      },
      "execution_count": null,
      "outputs": [
        {
          "output_type": "stream",
          "name": "stdout",
          "text": [
            "Before shuffle:\n",
            "['2s', '2h', '2d', '2c', '3s', '3h', '3d', '3c', '4s', '4h', '4d', '4c', '5s', '5h', '5d', '5c', '6s', '6h', '6d', '6c', '7s', '7h', '7d', '7c', '8s', '8h', '8d', '8c', '9s', '9h', '9d', '9c', 'Ts', 'Th', 'Td', 'Tc', 'Js', 'Jh', 'Jd', 'Jc', 'Qs', 'Qh', 'Qd', 'Qc', 'Ks', 'Kh', 'Kd', 'Kc', 'As', 'Ah', 'Ad', 'Ac']\n",
            "After shuffle:\n",
            "['Qh', '4d', '9d', 'Kd', '2d', 'Ts', '4c', '3h', '8d', 'Qd', '3d', '3c', '8c', 'Ah', '7h', '6d', 'Kc', 'Ad', '8h', '8s', '5h', '9h', 'Th', 'Tc', 'Ks', '2c', '6h', '4s', '5d', '9s', '5s', 'Qs', '9c', 'Jc', 'Qc', '2h', '7s', '7d', 'Ac', '3s', '2s', 'As', '4h', 'Jd', 'Js', '6s', '7c', '6c', 'Td', 'Kh', 'Jh', '5c']\n",
            "['5h', '9h', 'Th', 'Tc', 'Ks', '2c', '6h', '4s', '5d', '9s', '5s', 'Qs', '9c', 'Jc', 'Qc', '2h', '7s', '7d', 'Ac', '3s', '2s', 'As', '4h', 'Jd', 'Js', '6s', '7c', '6c', 'Td', 'Kh', 'Jh', '5c']\n",
            "Player 1: ['Qh', '2d', '8d', '8c', 'Kc']\n",
            "Player 2: ['4d', 'Ts', 'Qd', 'Ah', 'Ad']\n",
            "Player 3: ['9d', '4c', '3d', '7h', '8h']\n",
            "Player 4: ['Kd', '3h', '3c', '6d', '8s']\n"
          ]
        },
        {
          "output_type": "execute_result",
          "data": {
            "text/plain": [
              "[['Qh', '2d', '8d', '8c', 'Kc'],\n",
              " ['4d', 'Ts', 'Qd', 'Ah', 'Ad'],\n",
              " ['9d', '4c', '3d', '7h', '8h'],\n",
              " ['Kd', '3h', '3c', '6d', '8s']]"
            ]
          },
          "metadata": {},
          "execution_count": 9
        }
      ]
    }
  ]
}